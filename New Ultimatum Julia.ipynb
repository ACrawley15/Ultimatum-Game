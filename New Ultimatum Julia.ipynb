{
 "cells": [
  {
   "cell_type": "markdown",
   "id": "45bcce1e",
   "metadata": {},
   "source": [
    "In general, if df is a Pandas object (such as a dataframe or series), then the Python command df.x(y, w=z) becomes x(df, y, w=z) in Julia. df.loc[a,b,c] becomes loc(df)[a,b,c] (same for iloc and ix). "
   ]
  },
  {
   "cell_type": "code",
   "execution_count": 2,
   "id": "d1afefad",
   "metadata": {},
   "outputs": [],
   "source": [
    "import Pkg\n",
    "using Pkg\n",
    "#Pkg.add(\"\")\n",
    "using Pandas,FreqTables, Distributions, BlackBoxOptim, ForwardDiff, Optim, HTTP"
   ]
  },
  {
   "cell_type": "code",
   "execution_count": 15,
   "id": "cc1bb478",
   "metadata": {},
   "outputs": [],
   "source": [
    "dataset = read_csv(\"datamerged2.csv\");"
   ]
  },
  {
   "cell_type": "code",
   "execution_count": 16,
   "id": "6403f67b",
   "metadata": {},
   "outputs": [],
   "source": [
    "subset1 = query(dataset,(\"treatment==1 and (round==2 or round==3)\"));"
   ]
  },
  {
   "cell_type": "code",
   "execution_count": 10,
   "id": "e051b580",
   "metadata": {},
   "outputs": [
    {
     "data": {
      "text/html": [
       "<table border=\"1\" class=\"dataframe\">\n",
       "  <thead>\n",
       "    <tr style=\"text-align: right;\">\n",
       "      <th></th>\n",
       "      <th>id</th>\n",
       "      <th>treatment</th>\n",
       "      <th>tofrom</th>\n",
       "      <th>value</th>\n",
       "      <th>role</th>\n",
       "      <th>resp</th>\n",
       "      <th>round</th>\n",
       "      <th>rounds</th>\n",
       "      <th>old</th>\n",
       "    </tr>\n",
       "  </thead>\n",
       "  <tbody>\n",
       "    <tr>\n",
       "      <th>count</th>\n",
       "      <td>422.000000</td>\n",
       "      <td>422.0</td>\n",
       "      <td>422.000000</td>\n",
       "      <td>422.000000</td>\n",
       "      <td>422.0</td>\n",
       "      <td>422.000000</td>\n",
       "      <td>422.000000</td>\n",
       "      <td>422.000000</td>\n",
       "      <td>422.000000</td>\n",
       "    </tr>\n",
       "    <tr>\n",
       "      <th>mean</th>\n",
       "      <td>124.805687</td>\n",
       "      <td>1.0</td>\n",
       "      <td>135.838863</td>\n",
       "      <td>20.284550</td>\n",
       "      <td>0.0</td>\n",
       "      <td>0.819905</td>\n",
       "      <td>2.177725</td>\n",
       "      <td>2.355450</td>\n",
       "      <td>0.867299</td>\n",
       "    </tr>\n",
       "    <tr>\n",
       "      <th>std</th>\n",
       "      <td>81.297525</td>\n",
       "      <td>0.0</td>\n",
       "      <td>85.181224</td>\n",
       "      <td>6.608621</td>\n",
       "      <td>0.0</td>\n",
       "      <td>0.384722</td>\n",
       "      <td>0.382735</td>\n",
       "      <td>0.479218</td>\n",
       "      <td>0.676319</td>\n",
       "    </tr>\n",
       "    <tr>\n",
       "      <th>min</th>\n",
       "      <td>1.000000</td>\n",
       "      <td>1.0</td>\n",
       "      <td>6.000000</td>\n",
       "      <td>4.200000</td>\n",
       "      <td>0.0</td>\n",
       "      <td>0.000000</td>\n",
       "      <td>2.000000</td>\n",
       "      <td>2.000000</td>\n",
       "      <td>0.000000</td>\n",
       "    </tr>\n",
       "    <tr>\n",
       "      <th>25%</th>\n",
       "      <td>25.000000</td>\n",
       "      <td>1.0</td>\n",
       "      <td>28.000000</td>\n",
       "      <td>15.000000</td>\n",
       "      <td>0.0</td>\n",
       "      <td>1.000000</td>\n",
       "      <td>2.000000</td>\n",
       "      <td>2.000000</td>\n",
       "      <td>0.000000</td>\n",
       "    </tr>\n",
       "    <tr>\n",
       "      <th>50%</th>\n",
       "      <td>152.000000</td>\n",
       "      <td>1.0</td>\n",
       "      <td>167.000000</td>\n",
       "      <td>20.000000</td>\n",
       "      <td>0.0</td>\n",
       "      <td>1.000000</td>\n",
       "      <td>2.000000</td>\n",
       "      <td>2.000000</td>\n",
       "      <td>1.000000</td>\n",
       "    </tr>\n",
       "    <tr>\n",
       "      <th>75%</th>\n",
       "      <td>162.000000</td>\n",
       "      <td>1.0</td>\n",
       "      <td>177.000000</td>\n",
       "      <td>25.000000</td>\n",
       "      <td>0.0</td>\n",
       "      <td>1.000000</td>\n",
       "      <td>2.000000</td>\n",
       "      <td>3.000000</td>\n",
       "      <td>1.000000</td>\n",
       "    </tr>\n",
       "    <tr>\n",
       "      <th>max</th>\n",
       "      <td>250.000000</td>\n",
       "      <td>1.0</td>\n",
       "      <td>274.000000</td>\n",
       "      <td>45.000000</td>\n",
       "      <td>0.0</td>\n",
       "      <td>1.000000</td>\n",
       "      <td>3.000000</td>\n",
       "      <td>3.000000</td>\n",
       "      <td>2.000000</td>\n",
       "    </tr>\n",
       "  </tbody>\n",
       "</table>\n"
      ],
      "text/plain": [
       "               id  treatment      tofrom  ...       round      rounds         old\n",
       "count  422.000000      422.0  422.000000  ...  422.000000  422.000000  422.000000\n",
       "mean   124.805687        1.0  135.838863  ...    2.177725    2.355450    0.867299\n",
       "std     81.297525        0.0   85.181224  ...    0.382735    0.479218    0.676319\n",
       "min      1.000000        1.0    6.000000  ...    2.000000    2.000000    0.000000\n",
       "25%     25.000000        1.0   28.000000  ...    2.000000    2.000000    0.000000\n",
       "50%    152.000000        1.0  167.000000  ...    2.000000    2.000000    1.000000\n",
       "75%    162.000000        1.0  177.000000  ...    2.000000    3.000000    1.000000\n",
       "max    250.000000        1.0  274.000000  ...    3.000000    3.000000    2.000000\n",
       "\n",
       "[8 rows x 9 columns]\n"
      ]
     },
     "execution_count": 10,
     "metadata": {},
     "output_type": "execute_result"
    }
   ],
   "source": [
    "describe(subset1)"
   ]
  },
  {
   "cell_type": "code",
   "execution_count": 33,
   "id": "bc472c87",
   "metadata": {},
   "outputs": [],
   "source": [
    "# Offers in vector form\n",
    "s = values(subset1[\"value\"]);"
   ]
  },
  {
   "cell_type": "code",
   "execution_count": 19,
   "id": "095f9a16",
   "metadata": {},
   "outputs": [],
   "source": [
    "#parameters\n",
    "alph = 1 #competitiveness term\n",
    "r = 5; #reference offer (close to the minimum offer observed in the data)"
   ]
  },
  {
   "cell_type": "code",
   "execution_count": 31,
   "id": "8dfd135b",
   "metadata": {},
   "outputs": [],
   "source": [
    "# Distribution of our loss aversion paramters\n",
    "# Initial guess is a Truncated Normal Distribution with(mean=3, std=1, lb=1, ub=inf)\n",
    "F = TruncatedNormal(3,1,1,Inf);"
   ]
  },
  {
   "cell_type": "code",
   "execution_count": 21,
   "id": "a93f8b6d",
   "metadata": {},
   "outputs": [
    {
     "data": {
      "text/plain": [
       "0.29244046596551004"
      ]
     },
     "execution_count": 21,
     "metadata": {},
     "output_type": "execute_result"
    }
   ],
   "source": [
    "#probability loss aversion param below 2.5 given mean and std\n",
    "cdf(F,2.5)"
   ]
  },
  {
   "cell_type": "code",
   "execution_count": 20,
   "id": "a213c5fc",
   "metadata": {},
   "outputs": [
    {
     "data": {
      "text/plain": [
       "0.3602613193145302"
      ]
     },
     "execution_count": 20,
     "metadata": {},
     "output_type": "execute_result"
    }
   ],
   "source": [
    "#probability loss aversion param is equal to 2.5 given mean and std\n",
    "pdf(F,2.5)"
   ]
  },
  {
   "cell_type": "markdown",
   "id": "e9fbe152",
   "metadata": {},
   "source": [
    "### Stuff To Discuss"
   ]
  },
  {
   "cell_type": "code",
   "execution_count": 29,
   "id": "6c1163fd",
   "metadata": {},
   "outputs": [],
   "source": [
    "#summary stats of the distribution of offers\n",
    "mu = mean(s)\n",
    "sigma = std(s);"
   ]
  },
  {
   "cell_type": "code",
   "execution_count": 24,
   "id": "e90850c0",
   "metadata": {},
   "outputs": [
    {
     "data": {
      "text/plain": [
       "Truncated(Normal{Float64}(μ=20.284549780931517, σ=6.608621288880517); lower=0.0, upper=55.0)"
      ]
     },
     "execution_count": 24,
     "metadata": {},
     "output_type": "execute_result"
    }
   ],
   "source": [
    "#guess the distribution of offers as a truncated normal\n",
    "Q = TruncatedNormal(mu, sigma, 0, 55);"
   ]
  },
  {
   "cell_type": "code",
   "execution_count": 25,
   "id": "487c97b8",
   "metadata": {},
   "outputs": [],
   "source": [
    "#generate the probability of seeing a given offer 's' (PDF)\n",
    "pdfValues = zeros(0)\n",
    "for i in s\n",
    "    append!(pdfValues, pdf(Q, i))\n",
    "end"
   ]
  },
  {
   "cell_type": "code",
   "execution_count": 35,
   "id": "133e022d",
   "metadata": {},
   "outputs": [],
   "source": [
    "#generate the probability of seeing an offer *less* than a given offer 's' (CDF)\n",
    "cdfValues = zeros(0)\n",
    "for i in s\n",
    "    append!(cdfValues, cdf(Q, i))\n",
    "end"
   ]
  },
  {
   "cell_type": "code",
   "execution_count": 30,
   "id": "74931e7f",
   "metadata": {},
   "outputs": [
    {
     "ename": "LoadError",
     "evalue": "MethodError: no method matching -(::Int64, ::Vector{Float64})\nFor element-wise subtraction, use broadcasting with dot syntax: scalar .- array\n\u001b[0mClosest candidates are:\n\u001b[0m  -(::Union{Int128, Int16, Int32, Int64, Int8, UInt128, UInt16, UInt32, UInt64, UInt8}) at C:\\Users\\Alex\\AppData\\Local\\Programs\\Julia-1.7.1\\share\\julia\\base\\int.jl:85\n\u001b[0m  -(::T, \u001b[91m::T\u001b[39m) where T<:Union{Int128, Int16, Int32, Int64, Int8, UInt128, UInt16, UInt32, UInt64, UInt8} at C:\\Users\\Alex\\AppData\\Local\\Programs\\Julia-1.7.1\\share\\julia\\base\\int.jl:86\n\u001b[0m  -(\u001b[91m::SparseArrays.AbstractSparseMatrixCSC\u001b[39m, ::Array) at C:\\Users\\Alex\\AppData\\Local\\Programs\\Julia-1.7.1\\share\\julia\\stdlib\\v1.7\\SparseArrays\\src\\sparsematrix.jl:1776\n\u001b[0m  ...",
     "output_type": "error",
     "traceback": [
      "MethodError: no method matching -(::Int64, ::Vector{Float64})\nFor element-wise subtraction, use broadcasting with dot syntax: scalar .- array\n\u001b[0mClosest candidates are:\n\u001b[0m  -(::Union{Int128, Int16, Int32, Int64, Int8, UInt128, UInt16, UInt32, UInt64, UInt8}) at C:\\Users\\Alex\\AppData\\Local\\Programs\\Julia-1.7.1\\share\\julia\\base\\int.jl:85\n\u001b[0m  -(::T, \u001b[91m::T\u001b[39m) where T<:Union{Int128, Int16, Int32, Int64, Int8, UInt128, UInt16, UInt32, UInt64, UInt8} at C:\\Users\\Alex\\AppData\\Local\\Programs\\Julia-1.7.1\\share\\julia\\base\\int.jl:86\n\u001b[0m  -(\u001b[91m::SparseArrays.AbstractSparseMatrixCSC\u001b[39m, ::Array) at C:\\Users\\Alex\\AppData\\Local\\Programs\\Julia-1.7.1\\share\\julia\\stdlib\\v1.7\\SparseArrays\\src\\sparsematrix.jl:1776\n\u001b[0m  ...",
      "",
      "Stacktrace:",
      " [1] top-level scope",
      "   @ In[30]:2",
      " [2] eval",
      "   @ .\\boot.jl:373 [inlined]",
      " [3] include_string(mapexpr::typeof(REPL.softscope), mod::Module, code::String, filename::String)",
      "   @ Base .\\loading.jl:1196"
     ]
    }
   ],
   "source": [
    "#loss aversion parameters\n",
    "lambda = 2*cdfValues*(1 + 2*alph)./pdfValues - 2*(1 - s*(1 + 2*alph)) + 1\n",
    "mean(lambda)"
   ]
  },
  {
   "cell_type": "markdown",
   "id": "5e261038",
   "metadata": {},
   "source": [
    "$$\n",
    "\\lambda = \\frac{2Q(s)(1+2\\alpha)}{Q^\\prime(s)} - 2(1-s(1+2\\alpha)) + 1 \n",
    "$$"
   ]
  }
 ],
 "metadata": {
  "kernelspec": {
   "display_name": "Julia 1.7.1",
   "language": "julia",
   "name": "julia-1.7"
  },
  "language_info": {
   "file_extension": ".jl",
   "mimetype": "application/julia",
   "name": "julia",
   "version": "1.7.1"
  }
 },
 "nbformat": 4,
 "nbformat_minor": 5
}
