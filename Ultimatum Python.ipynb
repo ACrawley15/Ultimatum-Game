{
 "cells": [
  {
   "cell_type": "code",
   "execution_count": 208,
   "id": "2623e67f",
   "metadata": {},
   "outputs": [],
   "source": [
    "import pandas as pd\n",
    "import os\n",
    "import numpy as np\n",
    "import sympy as sp\n",
    "from sympy import *\n",
    "init_printing()\n",
    "dataset = pd.read_csv('datamerged2.csv')"
   ]
  },
  {
   "cell_type": "markdown",
   "id": "78987178",
   "metadata": {},
   "source": [
    "The game just consists of a series of offers and the response to those offers.  The offer, out of 55 is in the `value` field below.  If the responser accepted it, the corresponding entry in `resp` will be 1.\n",
    "\n",
    "There were three rounds of experiments in 2006, 2010 and 2014.  The experiment is given in the `old` column, with 0 meaning 2014, 1 is 2010 and 2 is 2014.\n",
    "\n",
    "There were 4 treatments in which lower bounds were imposed on the offers proposers were allowed to make treatment 1 means no floor at all, 2 means a floor of 10 dollars, 3 means a floor of of 2 dollars, 4 means a floor of 5 dollars. "
   ]
  },
  {
   "cell_type": "code",
   "execution_count": 49,
   "id": "95021baf",
   "metadata": {},
   "outputs": [],
   "source": [
    "t1 = dataset.treatment == 1\n",
    "treatment1=dataset[t1]\n",
    "\n",
    "t2 = dataset.treatment == 2\n",
    "treatment2=dataset[t2]\n",
    "\n",
    "t3 = dataset.treatment == 3\n",
    "treatment3=dataset[t3]\n",
    "\n",
    "t4 = dataset.treatment == 4\n",
    "treatment4=dataset[t4]"
   ]
  },
  {
   "cell_type": "markdown",
   "id": "de860214",
   "metadata": {},
   "source": [
    "Excluding round 1"
   ]
  },
  {
   "cell_type": "code",
   "execution_count": 54,
   "id": "1e2273cb",
   "metadata": {},
   "outputs": [],
   "source": [
    "subset1 = treatment1.query(\"round==2 or round==3\")\n",
    "\n",
    "subset2 = treatment2.query(\"round==2 or round==3\")\n",
    "\n",
    "subset3 = treatment3.query(\"round==2 or round==3\")\n",
    "\n",
    "subset4 = treatment4.query(\"round==2 or round==3\")"
   ]
  },
  {
   "cell_type": "code",
   "execution_count": 108,
   "id": "a135f537",
   "metadata": {},
   "outputs": [
    {
     "data": {
      "text/html": [
       "<div>\n",
       "<style scoped>\n",
       "    .dataframe tbody tr th:only-of-type {\n",
       "        vertical-align: middle;\n",
       "    }\n",
       "\n",
       "    .dataframe tbody tr th {\n",
       "        vertical-align: top;\n",
       "    }\n",
       "\n",
       "    .dataframe thead th {\n",
       "        text-align: right;\n",
       "    }\n",
       "</style>\n",
       "<table border=\"1\" class=\"dataframe\">\n",
       "  <thead>\n",
       "    <tr style=\"text-align: right;\">\n",
       "      <th></th>\n",
       "      <th>id</th>\n",
       "      <th>treatment</th>\n",
       "      <th>tofrom</th>\n",
       "      <th>value</th>\n",
       "      <th>role</th>\n",
       "      <th>resp</th>\n",
       "      <th>round</th>\n",
       "      <th>rounds</th>\n",
       "      <th>old</th>\n",
       "    </tr>\n",
       "  </thead>\n",
       "  <tbody>\n",
       "    <tr>\n",
       "      <th>count</th>\n",
       "      <td>27.000000</td>\n",
       "      <td>27.0</td>\n",
       "      <td>27.000000</td>\n",
       "      <td>27.000000</td>\n",
       "      <td>27.0</td>\n",
       "      <td>27.000000</td>\n",
       "      <td>27.000000</td>\n",
       "      <td>27.000000</td>\n",
       "      <td>27.000000</td>\n",
       "    </tr>\n",
       "    <tr>\n",
       "      <th>mean</th>\n",
       "      <td>146.555556</td>\n",
       "      <td>1.0</td>\n",
       "      <td>157.925926</td>\n",
       "      <td>4.974074</td>\n",
       "      <td>0.0</td>\n",
       "      <td>0.222222</td>\n",
       "      <td>1.407407</td>\n",
       "      <td>2.407407</td>\n",
       "      <td>1.037037</td>\n",
       "    </tr>\n",
       "    <tr>\n",
       "      <th>std</th>\n",
       "      <td>84.071551</td>\n",
       "      <td>0.0</td>\n",
       "      <td>92.857180</td>\n",
       "      <td>0.155891</td>\n",
       "      <td>0.0</td>\n",
       "      <td>0.423659</td>\n",
       "      <td>0.500712</td>\n",
       "      <td>0.500712</td>\n",
       "      <td>0.758616</td>\n",
       "    </tr>\n",
       "    <tr>\n",
       "      <th>min</th>\n",
       "      <td>12.000000</td>\n",
       "      <td>1.0</td>\n",
       "      <td>6.000000</td>\n",
       "      <td>4.200000</td>\n",
       "      <td>0.0</td>\n",
       "      <td>0.000000</td>\n",
       "      <td>1.000000</td>\n",
       "      <td>2.000000</td>\n",
       "      <td>0.000000</td>\n",
       "    </tr>\n",
       "    <tr>\n",
       "      <th>25%</th>\n",
       "      <td>81.000000</td>\n",
       "      <td>1.0</td>\n",
       "      <td>88.500000</td>\n",
       "      <td>5.000000</td>\n",
       "      <td>0.0</td>\n",
       "      <td>0.000000</td>\n",
       "      <td>1.000000</td>\n",
       "      <td>2.000000</td>\n",
       "      <td>0.500000</td>\n",
       "    </tr>\n",
       "    <tr>\n",
       "      <th>50%</th>\n",
       "      <td>160.000000</td>\n",
       "      <td>1.0</td>\n",
       "      <td>174.000000</td>\n",
       "      <td>5.000000</td>\n",
       "      <td>0.0</td>\n",
       "      <td>0.000000</td>\n",
       "      <td>1.000000</td>\n",
       "      <td>2.000000</td>\n",
       "      <td>1.000000</td>\n",
       "    </tr>\n",
       "    <tr>\n",
       "      <th>75%</th>\n",
       "      <td>240.000000</td>\n",
       "      <td>1.0</td>\n",
       "      <td>253.000000</td>\n",
       "      <td>5.000000</td>\n",
       "      <td>0.0</td>\n",
       "      <td>0.000000</td>\n",
       "      <td>2.000000</td>\n",
       "      <td>3.000000</td>\n",
       "      <td>2.000000</td>\n",
       "    </tr>\n",
       "    <tr>\n",
       "      <th>max</th>\n",
       "      <td>240.000000</td>\n",
       "      <td>1.0</td>\n",
       "      <td>274.000000</td>\n",
       "      <td>5.100000</td>\n",
       "      <td>0.0</td>\n",
       "      <td>1.000000</td>\n",
       "      <td>2.000000</td>\n",
       "      <td>3.000000</td>\n",
       "      <td>2.000000</td>\n",
       "    </tr>\n",
       "  </tbody>\n",
       "</table>\n",
       "</div>"
      ],
      "text/plain": [
       "               id  treatment      tofrom      value  role       resp  \\\n",
       "count   27.000000       27.0   27.000000  27.000000  27.0  27.000000   \n",
       "mean   146.555556        1.0  157.925926   4.974074   0.0   0.222222   \n",
       "std     84.071551        0.0   92.857180   0.155891   0.0   0.423659   \n",
       "min     12.000000        1.0    6.000000   4.200000   0.0   0.000000   \n",
       "25%     81.000000        1.0   88.500000   5.000000   0.0   0.000000   \n",
       "50%    160.000000        1.0  174.000000   5.000000   0.0   0.000000   \n",
       "75%    240.000000        1.0  253.000000   5.000000   0.0   0.000000   \n",
       "max    240.000000        1.0  274.000000   5.100000   0.0   1.000000   \n",
       "\n",
       "           round     rounds        old  \n",
       "count  27.000000  27.000000  27.000000  \n",
       "mean    1.407407   2.407407   1.037037  \n",
       "std     0.500712   0.500712   0.758616  \n",
       "min     1.000000   2.000000   0.000000  \n",
       "25%     1.000000   2.000000   0.500000  \n",
       "50%     1.000000   2.000000   1.000000  \n",
       "75%     2.000000   3.000000   2.000000  \n",
       "max     2.000000   3.000000   2.000000  "
      ]
     },
     "execution_count": 108,
     "metadata": {},
     "output_type": "execute_result"
    }
   ],
   "source": [
    "smol = treatment1.query(\"value>4 and value<6\")\n",
    "smol.describe()"
   ]
  },
  {
   "cell_type": "code",
   "execution_count": 4,
   "id": "d2dcdfcc",
   "metadata": {},
   "outputs": [
    {
     "data": {
      "text/html": [
       "<div>\n",
       "<style scoped>\n",
       "    .dataframe tbody tr th:only-of-type {\n",
       "        vertical-align: middle;\n",
       "    }\n",
       "\n",
       "    .dataframe tbody tr th {\n",
       "        vertical-align: top;\n",
       "    }\n",
       "\n",
       "    .dataframe thead th {\n",
       "        text-align: right;\n",
       "    }\n",
       "</style>\n",
       "<table border=\"1\" class=\"dataframe\">\n",
       "  <thead>\n",
       "    <tr style=\"text-align: right;\">\n",
       "      <th></th>\n",
       "      <th>id</th>\n",
       "      <th>treatment</th>\n",
       "      <th>tofrom</th>\n",
       "      <th>value</th>\n",
       "      <th>role</th>\n",
       "      <th>resp</th>\n",
       "      <th>round</th>\n",
       "      <th>rounds</th>\n",
       "      <th>old</th>\n",
       "    </tr>\n",
       "  </thead>\n",
       "  <tbody>\n",
       "    <tr>\n",
       "      <th>count</th>\n",
       "      <td>2093.000000</td>\n",
       "      <td>2093.000000</td>\n",
       "      <td>2093.000000</td>\n",
       "      <td>2093.000000</td>\n",
       "      <td>2093.0</td>\n",
       "      <td>2093.000000</td>\n",
       "      <td>2093.000000</td>\n",
       "      <td>2093.000000</td>\n",
       "      <td>2093.000000</td>\n",
       "    </tr>\n",
       "    <tr>\n",
       "      <th>mean</th>\n",
       "      <td>136.852365</td>\n",
       "      <td>2.424749</td>\n",
       "      <td>144.307692</td>\n",
       "      <td>18.792203</td>\n",
       "      <td>0.0</td>\n",
       "      <td>0.814620</td>\n",
       "      <td>1.607740</td>\n",
       "      <td>2.215002</td>\n",
       "      <td>0.701386</td>\n",
       "    </tr>\n",
       "    <tr>\n",
       "      <th>std</th>\n",
       "      <td>81.562400</td>\n",
       "      <td>1.241298</td>\n",
       "      <td>86.824111</td>\n",
       "      <td>7.226530</td>\n",
       "      <td>0.0</td>\n",
       "      <td>0.388698</td>\n",
       "      <td>0.617988</td>\n",
       "      <td>0.410922</td>\n",
       "      <td>0.730504</td>\n",
       "    </tr>\n",
       "    <tr>\n",
       "      <th>min</th>\n",
       "      <td>1.000000</td>\n",
       "      <td>1.000000</td>\n",
       "      <td>6.000000</td>\n",
       "      <td>0.000000</td>\n",
       "      <td>0.0</td>\n",
       "      <td>0.000000</td>\n",
       "      <td>1.000000</td>\n",
       "      <td>2.000000</td>\n",
       "      <td>0.000000</td>\n",
       "    </tr>\n",
       "    <tr>\n",
       "      <th>25%</th>\n",
       "      <td>65.000000</td>\n",
       "      <td>1.000000</td>\n",
       "      <td>68.000000</td>\n",
       "      <td>15.000000</td>\n",
       "      <td>0.0</td>\n",
       "      <td>1.000000</td>\n",
       "      <td>1.000000</td>\n",
       "      <td>2.000000</td>\n",
       "      <td>0.000000</td>\n",
       "    </tr>\n",
       "    <tr>\n",
       "      <th>50%</th>\n",
       "      <td>133.000000</td>\n",
       "      <td>3.000000</td>\n",
       "      <td>145.000000</td>\n",
       "      <td>20.000000</td>\n",
       "      <td>0.0</td>\n",
       "      <td>1.000000</td>\n",
       "      <td>2.000000</td>\n",
       "      <td>2.000000</td>\n",
       "      <td>1.000000</td>\n",
       "    </tr>\n",
       "    <tr>\n",
       "      <th>75%</th>\n",
       "      <td>211.000000</td>\n",
       "      <td>4.000000</td>\n",
       "      <td>225.000000</td>\n",
       "      <td>25.000000</td>\n",
       "      <td>0.0</td>\n",
       "      <td>1.000000</td>\n",
       "      <td>2.000000</td>\n",
       "      <td>2.000000</td>\n",
       "      <td>1.000000</td>\n",
       "    </tr>\n",
       "    <tr>\n",
       "      <th>max</th>\n",
       "      <td>276.000000</td>\n",
       "      <td>4.000000</td>\n",
       "      <td>288.000000</td>\n",
       "      <td>49.000000</td>\n",
       "      <td>0.0</td>\n",
       "      <td>1.000000</td>\n",
       "      <td>3.000000</td>\n",
       "      <td>3.000000</td>\n",
       "      <td>2.000000</td>\n",
       "    </tr>\n",
       "  </tbody>\n",
       "</table>\n",
       "</div>"
      ],
      "text/plain": [
       "                id    treatment       tofrom        value    role  \\\n",
       "count  2093.000000  2093.000000  2093.000000  2093.000000  2093.0   \n",
       "mean    136.852365     2.424749   144.307692    18.792203     0.0   \n",
       "std      81.562400     1.241298    86.824111     7.226530     0.0   \n",
       "min       1.000000     1.000000     6.000000     0.000000     0.0   \n",
       "25%      65.000000     1.000000    68.000000    15.000000     0.0   \n",
       "50%     133.000000     3.000000   145.000000    20.000000     0.0   \n",
       "75%     211.000000     4.000000   225.000000    25.000000     0.0   \n",
       "max     276.000000     4.000000   288.000000    49.000000     0.0   \n",
       "\n",
       "              resp        round       rounds          old  \n",
       "count  2093.000000  2093.000000  2093.000000  2093.000000  \n",
       "mean      0.814620     1.607740     2.215002     0.701386  \n",
       "std       0.388698     0.617988     0.410922     0.730504  \n",
       "min       0.000000     1.000000     2.000000     0.000000  \n",
       "25%       1.000000     1.000000     2.000000     0.000000  \n",
       "50%       1.000000     2.000000     2.000000     1.000000  \n",
       "75%       1.000000     2.000000     2.000000     1.000000  \n",
       "max       1.000000     3.000000     3.000000     2.000000  "
      ]
     },
     "execution_count": 4,
     "metadata": {},
     "output_type": "execute_result"
    }
   ],
   "source": [
    "dataset.describe()"
   ]
  },
  {
   "cell_type": "code",
   "execution_count": 6,
   "id": "f3a5a526",
   "metadata": {},
   "outputs": [
    {
     "data": {
      "text/plain": [
       "(-0.05, 0.98]       2\n",
       "(0.98, 1.96]        1\n",
       "(1.96, 2.94]       13\n",
       "(2.94, 3.92]        5\n",
       "(3.92, 4.9]        14\n",
       "(4.9, 5.88]        95\n",
       "(5.88, 6.86]        5\n",
       "(6.86, 7.84]       16\n",
       "(7.84, 8.82]       16\n",
       "(8.82, 9.8]        10\n",
       "(9.8, 10.78]      187\n",
       "(10.78, 11.76]     36\n",
       "(11.76, 12.74]     20\n",
       "(12.74, 13.72]     21\n",
       "(13.72, 14.7]      24\n",
       "(14.7, 15.68]     281\n",
       "(15.68, 16.66]     62\n",
       "(16.66, 17.64]     89\n",
       "(17.64, 18.62]     73\n",
       "(18.62, 19.6]      35\n",
       "(19.6, 20.58]     338\n",
       "(20.58, 21.56]     30\n",
       "(21.56, 22.54]     43\n",
       "(22.54, 23.52]     52\n",
       "(23.52, 24.5]      29\n",
       "(24.5, 25.48]     233\n",
       "(25.48, 26.46]     60\n",
       "(26.46, 27.44]     70\n",
       "(27.44, 28.42]     68\n",
       "(28.42, 29.4]      19\n",
       "(29.4, 30.38]     108\n",
       "(30.38, 31.36]      8\n",
       "(31.36, 32.34]      1\n",
       "(32.34, 33.32]      4\n",
       "(33.32, 34.3]       2\n",
       "(34.3, 35.28]       9\n",
       "(35.28, 36.26]      1\n",
       "(36.26, 37.24]      1\n",
       "(37.24, 38.22]      3\n",
       "(38.22, 39.2]       0\n",
       "(39.2, 40.18]       3\n",
       "(40.18, 41.16]      0\n",
       "(41.16, 42.14]      0\n",
       "(42.14, 43.12]      0\n",
       "(43.12, 44.1]       0\n",
       "(44.1, 45.08]       3\n",
       "(45.08, 46.06]      0\n",
       "(46.06, 47.04]      2\n",
       "(47.04, 48.02]      0\n",
       "(48.02, 49.0]       1\n",
       "Name: value, dtype: int64"
      ]
     },
     "execution_count": 6,
     "metadata": {},
     "output_type": "execute_result"
    }
   ],
   "source": [
    "dataset.value.value_counts(sort=False,bins=50)"
   ]
  },
  {
   "cell_type": "code",
   "execution_count": 7,
   "id": "6e4356cd",
   "metadata": {},
   "outputs": [
    {
     "data": {
      "text/plain": [
       "<AxesSubplot:>"
      ]
     },
     "execution_count": 7,
     "metadata": {},
     "output_type": "execute_result"
    },
    {
     "data": {
      "image/png": "[encoded data removed]",
      "text/plain": [
       "<Figure size 432x288 with 1 Axes>"
      ]
     },
     "metadata": {
      "needs_background": "light"
     },
     "output_type": "display_data"
    }
   ],
   "source": [
    "dataset.value.value_counts(sort=False,bins=10).plot(kind='barh')"
   ]
  },
  {
   "cell_type": "markdown",
   "id": "5a04532b",
   "metadata": {},
   "source": [
    "## Treatment 1"
   ]
  },
  {
   "cell_type": "markdown",
   "id": "0d493d8c",
   "metadata": {},
   "source": [
    "Creating symbols"
   ]
  },
  {
   "cell_type": "code",
   "execution_count": 227,
   "id": "d6f55059",
   "metadata": {},
   "outputs": [
    {
     "data": {
      "image/png": "[encoded data removed]",
      "text/latex": [
       "$\\displaystyle \\left( \\mu, \\  \\pi, \\  \\sigma, \\  s_{i}, \\  \\lambda, \\  \\alpha, \\  N, \\  r, \\  s, \\  x, \\  y, \\  z\\right)$"
      ],
      "text/plain": [
       "(μ, π, σ, sᵢ, λ, α, N, r, s, x, y, z)"
      ]
     },
     "execution_count": 227,
     "metadata": {},
     "output_type": "execute_result"
    }
   ],
   "source": [
    "from sympy import Sum\n",
    "mu, pi, sigma, s_i, lamda, alpha, N, r, s, x, y, z = symbols('mu pi sigma s_i lamda alpha N r s x y z')\n",
    "mu, pi, sigma, s_i, lamda, alpha, N, r, s, x, y, z "
   ]
  },
  {
   "cell_type": "markdown",
   "id": "e834930c",
   "metadata": {},
   "source": [
    "Treatment 1 data exluding offers = 0 (zero doesn't work with the logs"
   ]
  },
  {
   "cell_type": "code",
   "execution_count": 151,
   "id": "0f28e92a",
   "metadata": {},
   "outputs": [],
   "source": [
    "no_zero = treatment1.query(\"value>0\")"
   ]
  },
  {
   "cell_type": "markdown",
   "id": "6edd9049",
   "metadata": {},
   "source": [
    "Trying to write the mean formula with symbols, its not going well..."
   ]
  },
  {
   "cell_type": "code",
   "execution_count": 266,
   "id": "24d9162a",
   "metadata": {},
   "outputs": [
    {
     "name": "stderr",
     "output_type": "stream",
     "text": [
      "C:\\Users\\Alex\\anaconda3\\lib\\site-packages\\sympy\\core\\sympify.py:449: SymPyDeprecationWarning: \n",
      "\n",
      "String fallback in sympify has been deprecated since SymPy 1.6. Use\n",
      "sympify(str(obj)) or sympy.core.sympify.converter or obj._sympy_\n",
      "instead. See https://github.com/sympy/sympy/issues/18066 for more\n",
      "info.\n",
      "\n",
      "  SymPyDeprecationWarning(\n"
     ]
    },
    {
     "ename": "SympifyError",
     "evalue": "Sympify of expression 'could not parse '<bound method DataFrame.count of        id  treatment  tofrom  value  role  resp  round  rounds  old0       1          1       6   20.0     0     1      1       2    01       1          1       9   20.0     0     0      1       2    02       1          1      10   20.0     0     1      1       2    03       1          1      11   20.0     0     1      1       2    04       1          1      13   20.0     0     1      1       2    0...   ...        ...     ...    ...   ...   ...    ...     ...  ...1892  247          1     253   25.0     0     1      2       2    21893  247          1     255   25.0     0     1      2       2    21894  247          1     256   30.0     0     1      2       2    21895  247          1     258   27.0     0     1      2       2    21896  247          1     254   20.0     0     1      2       2    2[768 rows x 9 columns]>'' failed, because of exception being raised:\nSyntaxError: invalid syntax (<string>, line 1)",
     "output_type": "error",
     "traceback": [
      "\u001b[1;31m---------------------------------------------------------------------------\u001b[0m",
      "\u001b[1;31mValueError\u001b[0m                                Traceback (most recent call last)",
      "\u001b[1;31mValueError\u001b[0m: Error from parse_expr with transformed code: \"<Symbol ('bound' )Symbol ('method' )Symbol ('DataFrame' ).count of id treatment tofrom value role resp round rounds old0 Integer (1 )Integer (1 )Integer (6 )Float ('20.0' )Integer (0 )Integer (1 )Integer (1 )Integer (2 )Integer (0 )Integer (1 )Integer (1 )Integer (1 )Integer (9 )Float ('20.0' )Integer (0 )Integer (0 )Integer (1 )Integer (2 )Integer (0 )Integer (2 )Integer (1 )Integer (1 )Integer (10 )Float ('20.0' )Integer (0 )Integer (1 )Integer (1 )Integer (2 )Integer (0 )Integer (3 )Integer (1 )Integer (1 )Integer (11 )Float ('20.0' )Integer (0 )Integer (1 )Integer (1 )Integer (2 )Integer (0 )Integer (4 )Integer (1 )Integer (1 )Integer (13 )Float ('20.0' )Integer (0 )Integer (1 )Integer (1 )Integer (2 )Float ('0.' ).............................Integer (1892 )Integer (247 )Integer (1 )Integer (253 )Float ('25.0' )Integer (0 )Integer (1 )Integer (2 )Integer (2 )Integer (21893 )Integer (247 )Integer (1 )Integer (255 )Float ('25.0' )Integer (0 )Integer (1 )Integer (2 )Integer (2 )Integer (21894 )Integer (247 )Integer (1 )Integer (256 )Float ('30.0' )Integer (0 )Integer (1 )Integer (2 )Integer (2 )Integer (21895 )Integer (247 )Integer (1 )Integer (258 )Float ('27.0' )Integer (0 )Integer (1 )Integer (2 )Integer (2 )Integer (21896 )Integer (247 )Integer (1 )Integer (254 )Float ('20.0' )Integer (0 )Integer (1 )Integer (2 )Integer (2 )Integer (2 )[Integer (768 )Symbol ('rows' )Symbol ('x' )Integer (9 )Symbol ('columns' )]>\"",
      "\nThe above exception was the direct cause of the following exception:\n",
      "\u001b[1;31mSyntaxError\u001b[0m                               Traceback (most recent call last)",
      "\u001b[1;32m~\\anaconda3\\lib\\site-packages\\sympy\\core\\sympify.py\u001b[0m in \u001b[0;36msympify\u001b[1;34m(a, locals, convert_xor, strict, rational, evaluate)\u001b[0m\n\u001b[0;32m    471\u001b[0m         \u001b[0ma\u001b[0m \u001b[1;33m=\u001b[0m \u001b[0ma\u001b[0m\u001b[1;33m.\u001b[0m\u001b[0mreplace\u001b[0m\u001b[1;33m(\u001b[0m\u001b[1;34m'\\n'\u001b[0m\u001b[1;33m,\u001b[0m \u001b[1;34m''\u001b[0m\u001b[1;33m)\u001b[0m\u001b[1;33m\u001b[0m\u001b[1;33m\u001b[0m\u001b[0m\n\u001b[1;32m--> 472\u001b[1;33m         \u001b[0mexpr\u001b[0m \u001b[1;33m=\u001b[0m \u001b[0mparse_expr\u001b[0m\u001b[1;33m(\u001b[0m\u001b[0ma\u001b[0m\u001b[1;33m,\u001b[0m \u001b[0mlocal_dict\u001b[0m\u001b[1;33m=\u001b[0m\u001b[0mlocals\u001b[0m\u001b[1;33m,\u001b[0m \u001b[0mtransformations\u001b[0m\u001b[1;33m=\u001b[0m\u001b[0mtransformations\u001b[0m\u001b[1;33m,\u001b[0m \u001b[0mevaluate\u001b[0m\u001b[1;33m=\u001b[0m\u001b[0mevaluate\u001b[0m\u001b[1;33m)\u001b[0m\u001b[1;33m\u001b[0m\u001b[1;33m\u001b[0m\u001b[0m\n\u001b[0m\u001b[0;32m    473\u001b[0m     \u001b[1;32mexcept\u001b[0m \u001b[1;33m(\u001b[0m\u001b[0mTokenError\u001b[0m\u001b[1;33m,\u001b[0m \u001b[0mSyntaxError\u001b[0m\u001b[1;33m)\u001b[0m \u001b[1;32mas\u001b[0m \u001b[0mexc\u001b[0m\u001b[1;33m:\u001b[0m\u001b[1;33m\u001b[0m\u001b[1;33m\u001b[0m\u001b[0m\n",
      "\u001b[1;32m~\\anaconda3\\lib\\site-packages\\sympy\\parsing\\sympy_parser.py\u001b[0m in \u001b[0;36mparse_expr\u001b[1;34m(s, local_dict, transformations, global_dict, evaluate)\u001b[0m\n\u001b[0;32m   1025\u001b[0m             \u001b[0mlocal_dict\u001b[0m\u001b[1;33m[\u001b[0m\u001b[0mi\u001b[0m\u001b[1;33m]\u001b[0m \u001b[1;33m=\u001b[0m \u001b[1;32mNone\u001b[0m\u001b[1;33m\u001b[0m\u001b[1;33m\u001b[0m\u001b[0m\n\u001b[1;32m-> 1026\u001b[1;33m         \u001b[1;32mraise\u001b[0m \u001b[0me\u001b[0m \u001b[1;32mfrom\u001b[0m \u001b[0mValueError\u001b[0m\u001b[1;33m(\u001b[0m\u001b[1;34mf\"Error from parse_expr with transformed code: {code!r}\"\u001b[0m\u001b[1;33m)\u001b[0m\u001b[1;33m\u001b[0m\u001b[1;33m\u001b[0m\u001b[0m\n\u001b[0m\u001b[0;32m   1027\u001b[0m \u001b[1;33m\u001b[0m\u001b[0m\n",
      "\u001b[1;32m~\\anaconda3\\lib\\site-packages\\sympy\\parsing\\sympy_parser.py\u001b[0m in \u001b[0;36mparse_expr\u001b[1;34m(s, local_dict, transformations, global_dict, evaluate)\u001b[0m\n\u001b[0;32m   1016\u001b[0m     \u001b[1;32mtry\u001b[0m\u001b[1;33m:\u001b[0m\u001b[1;33m\u001b[0m\u001b[1;33m\u001b[0m\u001b[0m\n\u001b[1;32m-> 1017\u001b[1;33m         \u001b[0mrv\u001b[0m \u001b[1;33m=\u001b[0m \u001b[0meval_expr\u001b[0m\u001b[1;33m(\u001b[0m\u001b[0mcode\u001b[0m\u001b[1;33m,\u001b[0m \u001b[0mlocal_dict\u001b[0m\u001b[1;33m,\u001b[0m \u001b[0mglobal_dict\u001b[0m\u001b[1;33m)\u001b[0m\u001b[1;33m\u001b[0m\u001b[1;33m\u001b[0m\u001b[0m\n\u001b[0m\u001b[0;32m   1018\u001b[0m         \u001b[1;31m# restore neutral definitions for names\u001b[0m\u001b[1;33m\u001b[0m\u001b[1;33m\u001b[0m\u001b[0m\n",
      "\u001b[1;32m~\\anaconda3\\lib\\site-packages\\sympy\\parsing\\sympy_parser.py\u001b[0m in \u001b[0;36meval_expr\u001b[1;34m(code, local_dict, global_dict)\u001b[0m\n\u001b[0;32m    910\u001b[0m     \"\"\"\n\u001b[1;32m--> 911\u001b[1;33m     expr = eval(\n\u001b[0m\u001b[0;32m    912\u001b[0m         code, global_dict, local_dict)  # take local objects in preference\n",
      "\u001b[1;31mSyntaxError\u001b[0m: invalid syntax (<string>, line 1)",
      "\nDuring handling of the above exception, another exception occurred:\n",
      "\u001b[1;31mSympifyError\u001b[0m                              Traceback (most recent call last)",
      "\u001b[1;32m~\\AppData\\Local\\Temp/ipykernel_15616/1898266057.py\u001b[0m in \u001b[0;36m<module>\u001b[1;34m\u001b[0m\n\u001b[1;32m----> 1\u001b[1;33m \u001b[0mmu\u001b[0m \u001b[1;33m=\u001b[0m \u001b[1;33m(\u001b[0m\u001b[1;36m1\u001b[0m\u001b[1;33m/\u001b[0m\u001b[0mN\u001b[0m\u001b[1;33m)\u001b[0m\u001b[1;33m*\u001b[0m\u001b[0mSum\u001b[0m\u001b[1;33m(\u001b[0m\u001b[0mlog\u001b[0m\u001b[1;33m(\u001b[0m\u001b[0ms_i\u001b[0m\u001b[1;33m)\u001b[0m\u001b[1;33m,\u001b[0m \u001b[1;33m(\u001b[0m\u001b[0mi\u001b[0m\u001b[1;33m,\u001b[0m \u001b[1;36m1\u001b[0m\u001b[1;33m,\u001b[0m \u001b[0mn\u001b[0m\u001b[1;33m)\u001b[0m\u001b[1;33m)\u001b[0m\u001b[1;33m\u001b[0m\u001b[1;33m\u001b[0m\u001b[0m\n\u001b[0m",
      "\u001b[1;32m~\\anaconda3\\lib\\site-packages\\sympy\\concrete\\summations.py\u001b[0m in \u001b[0;36m__new__\u001b[1;34m(cls, function, *symbols, **assumptions)\u001b[0m\n\u001b[0;32m    165\u001b[0m \u001b[1;33m\u001b[0m\u001b[0m\n\u001b[0;32m    166\u001b[0m     \u001b[1;32mdef\u001b[0m \u001b[0m__new__\u001b[0m\u001b[1;33m(\u001b[0m\u001b[0mcls\u001b[0m\u001b[1;33m,\u001b[0m \u001b[0mfunction\u001b[0m\u001b[1;33m,\u001b[0m \u001b[1;33m*\u001b[0m\u001b[0msymbols\u001b[0m\u001b[1;33m,\u001b[0m \u001b[1;33m**\u001b[0m\u001b[0massumptions\u001b[0m\u001b[1;33m)\u001b[0m\u001b[1;33m:\u001b[0m\u001b[1;33m\u001b[0m\u001b[1;33m\u001b[0m\u001b[0m\n\u001b[1;32m--> 167\u001b[1;33m         \u001b[0mobj\u001b[0m \u001b[1;33m=\u001b[0m \u001b[0mAddWithLimits\u001b[0m\u001b[1;33m.\u001b[0m\u001b[0m__new__\u001b[0m\u001b[1;33m(\u001b[0m\u001b[0mcls\u001b[0m\u001b[1;33m,\u001b[0m \u001b[0mfunction\u001b[0m\u001b[1;33m,\u001b[0m \u001b[1;33m*\u001b[0m\u001b[0msymbols\u001b[0m\u001b[1;33m,\u001b[0m \u001b[1;33m**\u001b[0m\u001b[0massumptions\u001b[0m\u001b[1;33m)\u001b[0m\u001b[1;33m\u001b[0m\u001b[1;33m\u001b[0m\u001b[0m\n\u001b[0m\u001b[0;32m    168\u001b[0m         \u001b[1;32mif\u001b[0m \u001b[1;32mnot\u001b[0m \u001b[0mhasattr\u001b[0m\u001b[1;33m(\u001b[0m\u001b[0mobj\u001b[0m\u001b[1;33m,\u001b[0m \u001b[1;34m'limits'\u001b[0m\u001b[1;33m)\u001b[0m\u001b[1;33m:\u001b[0m\u001b[1;33m\u001b[0m\u001b[1;33m\u001b[0m\u001b[0m\n\u001b[0;32m    169\u001b[0m             \u001b[1;32mreturn\u001b[0m \u001b[0mobj\u001b[0m\u001b[1;33m\u001b[0m\u001b[1;33m\u001b[0m\u001b[0m\n",
      "\u001b[1;32m~\\anaconda3\\lib\\site-packages\\sympy\\concrete\\expr_with_limits.py\u001b[0m in \u001b[0;36m__new__\u001b[1;34m(cls, function, *symbols, **assumptions)\u001b[0m\n\u001b[0;32m    496\u001b[0m \u001b[1;33m\u001b[0m\u001b[0m\n\u001b[0;32m    497\u001b[0m     \u001b[1;32mdef\u001b[0m \u001b[0m__new__\u001b[0m\u001b[1;33m(\u001b[0m\u001b[0mcls\u001b[0m\u001b[1;33m,\u001b[0m \u001b[0mfunction\u001b[0m\u001b[1;33m,\u001b[0m \u001b[1;33m*\u001b[0m\u001b[0msymbols\u001b[0m\u001b[1;33m,\u001b[0m \u001b[1;33m**\u001b[0m\u001b[0massumptions\u001b[0m\u001b[1;33m)\u001b[0m\u001b[1;33m:\u001b[0m\u001b[1;33m\u001b[0m\u001b[1;33m\u001b[0m\u001b[0m\n\u001b[1;32m--> 498\u001b[1;33m         \u001b[0mpre\u001b[0m \u001b[1;33m=\u001b[0m \u001b[0m_common_new\u001b[0m\u001b[1;33m(\u001b[0m\u001b[0mcls\u001b[0m\u001b[1;33m,\u001b[0m \u001b[0mfunction\u001b[0m\u001b[1;33m,\u001b[0m \u001b[1;33m*\u001b[0m\u001b[0msymbols\u001b[0m\u001b[1;33m,\u001b[0m \u001b[1;33m**\u001b[0m\u001b[0massumptions\u001b[0m\u001b[1;33m)\u001b[0m\u001b[1;33m\u001b[0m\u001b[1;33m\u001b[0m\u001b[0m\n\u001b[0m\u001b[0;32m    499\u001b[0m         \u001b[1;32mif\u001b[0m \u001b[0mtype\u001b[0m\u001b[1;33m(\u001b[0m\u001b[0mpre\u001b[0m\u001b[1;33m)\u001b[0m \u001b[1;32mis\u001b[0m \u001b[0mtuple\u001b[0m\u001b[1;33m:\u001b[0m\u001b[1;33m\u001b[0m\u001b[1;33m\u001b[0m\u001b[0m\n\u001b[0;32m    500\u001b[0m             \u001b[0mfunction\u001b[0m\u001b[1;33m,\u001b[0m \u001b[0mlimits\u001b[0m\u001b[1;33m,\u001b[0m \u001b[0morientation\u001b[0m \u001b[1;33m=\u001b[0m \u001b[0mpre\u001b[0m\u001b[1;33m\u001b[0m\u001b[1;33m\u001b[0m\u001b[0m\n",
      "\u001b[1;32m~\\anaconda3\\lib\\site-packages\\sympy\\concrete\\expr_with_limits.py\u001b[0m in \u001b[0;36m_common_new\u001b[1;34m(cls, function, *symbols, **assumptions)\u001b[0m\n\u001b[0;32m     46\u001b[0m \u001b[1;33m\u001b[0m\u001b[0m\n\u001b[0;32m     47\u001b[0m     \u001b[1;32mif\u001b[0m \u001b[0msymbols\u001b[0m\u001b[1;33m:\u001b[0m\u001b[1;33m\u001b[0m\u001b[1;33m\u001b[0m\u001b[0m\n\u001b[1;32m---> 48\u001b[1;33m         \u001b[0mlimits\u001b[0m\u001b[1;33m,\u001b[0m \u001b[0morientation\u001b[0m \u001b[1;33m=\u001b[0m \u001b[0m_process_limits\u001b[0m\u001b[1;33m(\u001b[0m\u001b[1;33m*\u001b[0m\u001b[0msymbols\u001b[0m\u001b[1;33m)\u001b[0m\u001b[1;33m\u001b[0m\u001b[1;33m\u001b[0m\u001b[0m\n\u001b[0m\u001b[0;32m     49\u001b[0m         \u001b[1;32mfor\u001b[0m \u001b[0mi\u001b[0m\u001b[1;33m,\u001b[0m \u001b[0mli\u001b[0m \u001b[1;32min\u001b[0m \u001b[0menumerate\u001b[0m\u001b[1;33m(\u001b[0m\u001b[0mlimits\u001b[0m\u001b[1;33m)\u001b[0m\u001b[1;33m:\u001b[0m\u001b[1;33m\u001b[0m\u001b[1;33m\u001b[0m\u001b[0m\n\u001b[0;32m     50\u001b[0m             \u001b[1;32mif\u001b[0m \u001b[0mlen\u001b[0m\u001b[1;33m(\u001b[0m\u001b[0mli\u001b[0m\u001b[1;33m)\u001b[0m \u001b[1;33m==\u001b[0m \u001b[1;36m4\u001b[0m\u001b[1;33m:\u001b[0m\u001b[1;33m\u001b[0m\u001b[1;33m\u001b[0m\u001b[0m\n",
      "\u001b[1;32m~\\anaconda3\\lib\\site-packages\\sympy\\concrete\\expr_with_limits.py\u001b[0m in \u001b[0;36m_process_limits\u001b[1;34m(*symbols)\u001b[0m\n\u001b[0;32m    110\u001b[0m                 \u001b[0mdx\u001b[0m \u001b[1;33m=\u001b[0m \u001b[0mabs\u001b[0m\u001b[1;33m(\u001b[0m\u001b[0mV\u001b[0m\u001b[1;33m[\u001b[0m\u001b[1;36m1\u001b[0m\u001b[1;33m]\u001b[0m\u001b[1;33m.\u001b[0m\u001b[0mstep\u001b[0m\u001b[1;33m)\u001b[0m\u001b[1;33m\u001b[0m\u001b[1;33m\u001b[0m\u001b[0m\n\u001b[0;32m    111\u001b[0m                 \u001b[0mV\u001b[0m \u001b[1;33m=\u001b[0m \u001b[1;33m[\u001b[0m\u001b[0mV\u001b[0m\u001b[1;33m[\u001b[0m\u001b[1;36m0\u001b[0m\u001b[1;33m]\u001b[0m\u001b[1;33m]\u001b[0m \u001b[1;33m+\u001b[0m \u001b[1;33m[\u001b[0m\u001b[1;36m0\u001b[0m\u001b[1;33m,\u001b[0m \u001b[1;33m(\u001b[0m\u001b[0mhi\u001b[0m \u001b[1;33m-\u001b[0m \u001b[0mlo\u001b[0m\u001b[1;33m)\u001b[0m\u001b[1;33m//\u001b[0m\u001b[0mdx\u001b[0m\u001b[1;33m,\u001b[0m \u001b[0mdx\u001b[0m\u001b[1;33m*\u001b[0m\u001b[0mV\u001b[0m\u001b[1;33m[\u001b[0m\u001b[1;36m0\u001b[0m\u001b[1;33m]\u001b[0m \u001b[1;33m+\u001b[0m \u001b[0mlo\u001b[0m\u001b[1;33m]\u001b[0m\u001b[1;33m\u001b[0m\u001b[1;33m\u001b[0m\u001b[0m\n\u001b[1;32m--> 112\u001b[1;33m             \u001b[0mV\u001b[0m \u001b[1;33m=\u001b[0m \u001b[0msympify\u001b[0m\u001b[1;33m(\u001b[0m\u001b[0mflatten\u001b[0m\u001b[1;33m(\u001b[0m\u001b[0mV\u001b[0m\u001b[1;33m)\u001b[0m\u001b[1;33m)\u001b[0m  \u001b[1;31m# a list of sympified elements\u001b[0m\u001b[1;33m\u001b[0m\u001b[1;33m\u001b[0m\u001b[0m\n\u001b[0m\u001b[0;32m    113\u001b[0m             \u001b[1;32mif\u001b[0m \u001b[0misinstance\u001b[0m\u001b[1;33m(\u001b[0m\u001b[0mV\u001b[0m\u001b[1;33m[\u001b[0m\u001b[1;36m0\u001b[0m\u001b[1;33m]\u001b[0m\u001b[1;33m,\u001b[0m \u001b[1;33m(\u001b[0m\u001b[0mSymbol\u001b[0m\u001b[1;33m,\u001b[0m \u001b[0mIdx\u001b[0m\u001b[1;33m)\u001b[0m\u001b[1;33m)\u001b[0m \u001b[1;32mor\u001b[0m \u001b[0mgetattr\u001b[0m\u001b[1;33m(\u001b[0m\u001b[0mV\u001b[0m\u001b[1;33m[\u001b[0m\u001b[1;36m0\u001b[0m\u001b[1;33m]\u001b[0m\u001b[1;33m,\u001b[0m \u001b[1;34m'_diff_wrt'\u001b[0m\u001b[1;33m,\u001b[0m \u001b[1;32mFalse\u001b[0m\u001b[1;33m)\u001b[0m\u001b[1;33m:\u001b[0m\u001b[1;33m\u001b[0m\u001b[1;33m\u001b[0m\u001b[0m\n\u001b[0;32m    114\u001b[0m                 \u001b[0mnewsymbol\u001b[0m \u001b[1;33m=\u001b[0m \u001b[0mV\u001b[0m\u001b[1;33m[\u001b[0m\u001b[1;36m0\u001b[0m\u001b[1;33m]\u001b[0m\u001b[1;33m\u001b[0m\u001b[1;33m\u001b[0m\u001b[0m\n",
      "\u001b[1;32m~\\anaconda3\\lib\\site-packages\\sympy\\core\\sympify.py\u001b[0m in \u001b[0;36msympify\u001b[1;34m(a, locals, convert_xor, strict, rational, evaluate)\u001b[0m\n\u001b[0;32m    435\u001b[0m     \u001b[1;32mif\u001b[0m \u001b[0miterable\u001b[0m\u001b[1;33m(\u001b[0m\u001b[0ma\u001b[0m\u001b[1;33m)\u001b[0m\u001b[1;33m:\u001b[0m\u001b[1;33m\u001b[0m\u001b[1;33m\u001b[0m\u001b[0m\n\u001b[0;32m    436\u001b[0m         \u001b[1;32mtry\u001b[0m\u001b[1;33m:\u001b[0m\u001b[1;33m\u001b[0m\u001b[1;33m\u001b[0m\u001b[0m\n\u001b[1;32m--> 437\u001b[1;33m             return type(a)([sympify(x, locals=locals, convert_xor=convert_xor,\n\u001b[0m\u001b[0;32m    438\u001b[0m                 rational=rational, evaluate=evaluate) for x in a])\n\u001b[0;32m    439\u001b[0m         \u001b[1;32mexcept\u001b[0m \u001b[0mTypeError\u001b[0m\u001b[1;33m:\u001b[0m\u001b[1;33m\u001b[0m\u001b[1;33m\u001b[0m\u001b[0m\n",
      "\u001b[1;32m~\\anaconda3\\lib\\site-packages\\sympy\\core\\sympify.py\u001b[0m in \u001b[0;36m<listcomp>\u001b[1;34m(.0)\u001b[0m\n\u001b[0;32m    435\u001b[0m     \u001b[1;32mif\u001b[0m \u001b[0miterable\u001b[0m\u001b[1;33m(\u001b[0m\u001b[0ma\u001b[0m\u001b[1;33m)\u001b[0m\u001b[1;33m:\u001b[0m\u001b[1;33m\u001b[0m\u001b[1;33m\u001b[0m\u001b[0m\n\u001b[0;32m    436\u001b[0m         \u001b[1;32mtry\u001b[0m\u001b[1;33m:\u001b[0m\u001b[1;33m\u001b[0m\u001b[1;33m\u001b[0m\u001b[0m\n\u001b[1;32m--> 437\u001b[1;33m             return type(a)([sympify(x, locals=locals, convert_xor=convert_xor,\n\u001b[0m\u001b[0;32m    438\u001b[0m                 rational=rational, evaluate=evaluate) for x in a])\n\u001b[0;32m    439\u001b[0m         \u001b[1;32mexcept\u001b[0m \u001b[0mTypeError\u001b[0m\u001b[1;33m:\u001b[0m\u001b[1;33m\u001b[0m\u001b[1;33m\u001b[0m\u001b[0m\n",
      "\u001b[1;32m~\\anaconda3\\lib\\site-packages\\sympy\\core\\sympify.py\u001b[0m in \u001b[0;36msympify\u001b[1;34m(a, locals, convert_xor, strict, rational, evaluate)\u001b[0m\n\u001b[0;32m    472\u001b[0m         \u001b[0mexpr\u001b[0m \u001b[1;33m=\u001b[0m \u001b[0mparse_expr\u001b[0m\u001b[1;33m(\u001b[0m\u001b[0ma\u001b[0m\u001b[1;33m,\u001b[0m \u001b[0mlocal_dict\u001b[0m\u001b[1;33m=\u001b[0m\u001b[0mlocals\u001b[0m\u001b[1;33m,\u001b[0m \u001b[0mtransformations\u001b[0m\u001b[1;33m=\u001b[0m\u001b[0mtransformations\u001b[0m\u001b[1;33m,\u001b[0m \u001b[0mevaluate\u001b[0m\u001b[1;33m=\u001b[0m\u001b[0mevaluate\u001b[0m\u001b[1;33m)\u001b[0m\u001b[1;33m\u001b[0m\u001b[1;33m\u001b[0m\u001b[0m\n\u001b[0;32m    473\u001b[0m     \u001b[1;32mexcept\u001b[0m \u001b[1;33m(\u001b[0m\u001b[0mTokenError\u001b[0m\u001b[1;33m,\u001b[0m \u001b[0mSyntaxError\u001b[0m\u001b[1;33m)\u001b[0m \u001b[1;32mas\u001b[0m \u001b[0mexc\u001b[0m\u001b[1;33m:\u001b[0m\u001b[1;33m\u001b[0m\u001b[1;33m\u001b[0m\u001b[0m\n\u001b[1;32m--> 474\u001b[1;33m         \u001b[1;32mraise\u001b[0m \u001b[0mSympifyError\u001b[0m\u001b[1;33m(\u001b[0m\u001b[1;34m'could not parse %r'\u001b[0m \u001b[1;33m%\u001b[0m \u001b[0ma\u001b[0m\u001b[1;33m,\u001b[0m \u001b[0mexc\u001b[0m\u001b[1;33m)\u001b[0m\u001b[1;33m\u001b[0m\u001b[1;33m\u001b[0m\u001b[0m\n\u001b[0m\u001b[0;32m    475\u001b[0m \u001b[1;33m\u001b[0m\u001b[0m\n\u001b[0;32m    476\u001b[0m     \u001b[1;32mreturn\u001b[0m \u001b[0mexpr\u001b[0m\u001b[1;33m\u001b[0m\u001b[1;33m\u001b[0m\u001b[0m\n",
      "\u001b[1;31mSympifyError\u001b[0m: Sympify of expression 'could not parse '<bound method DataFrame.count of        id  treatment  tofrom  value  role  resp  round  rounds  old0       1          1       6   20.0     0     1      1       2    01       1          1       9   20.0     0     0      1       2    02       1          1      10   20.0     0     1      1       2    03       1          1      11   20.0     0     1      1       2    04       1          1      13   20.0     0     1      1       2    0...   ...        ...     ...    ...   ...   ...    ...     ...  ...1892  247          1     253   25.0     0     1      2       2    21893  247          1     255   25.0     0     1      2       2    21894  247          1     256   30.0     0     1      2       2    21895  247          1     258   27.0     0     1      2       2    21896  247          1     254   20.0     0     1      2       2    2[768 rows x 9 columns]>'' failed, because of exception being raised:\nSyntaxError: invalid syntax (<string>, line 1)"
     ]
    }
   ],
   "source": [
    "mu = (1/N)*Sum(log(s_i), (i, 1, n))"
   ]
  },
  {
   "cell_type": "markdown",
   "id": "35495697",
   "metadata": {},
   "source": [
    "### Fitting data into lognormal distribution using MLE"
   ]
  },
  {
   "cell_type": "markdown",
   "id": "045abffe",
   "metadata": {},
   "source": [
    "Finding the mean"
   ]
  },
  {
   "cell_type": "code",
   "execution_count": 261,
   "id": "2f8cab12",
   "metadata": {
    "scrolled": true
   },
   "outputs": [
    {
     "name": "stdout",
     "output_type": "stream",
     "text": [
      "2.9193719179548485\n"
     ]
    }
   ],
   "source": [
    "s=no_zero.value\n",
    "mean = (1/(len(s)))*np.log(s).sum()\n",
    "print(mean)"
   ]
  },
  {
   "cell_type": "markdown",
   "id": "13eaddf0",
   "metadata": {},
   "source": [
    "Finding std and var "
   ]
  },
  {
   "cell_type": "code",
   "execution_count": 264,
   "id": "c635141c",
   "metadata": {},
   "outputs": [
    {
     "name": "stdout",
     "output_type": "stream",
     "text": [
      "0.23014492221007266\n",
      "0.4797342203867394\n"
     ]
    }
   ],
   "source": [
    "var =(1/(len(s)))*((np.log(s)-mean)**2).sum()\n",
    "std = np.sqrt(var)\n",
    "print(var)\n",
    "print(std)"
   ]
  },
  {
   "cell_type": "markdown",
   "id": "7f23b2bd",
   "metadata": {},
   "source": [
    "pdf of log norm distn"
   ]
  },
  {
   "cell_type": "code",
   "execution_count": 294,
   "id": "1bfcb6cc",
   "metadata": {},
   "outputs": [
    {
     "name": "stdout",
     "output_type": "stream",
     "text": [
      "0       0.041056\n",
      "1       0.041056\n",
      "2       0.041056\n",
      "3       0.041056\n",
      "4       0.041056\n",
      "          ...   \n",
      "1892    0.027374\n",
      "1893    0.027374\n",
      "1894    0.016740\n",
      "1895    0.022637\n",
      "1896    0.041056\n",
      "Name: value, Length: 766, dtype: float64\n"
     ]
    }
   ],
   "source": [
    "pdf = (1/(s*std*np.sqrt(2*np.pi)))*np.exp(-((np.log(s)-mean)**2)/(2*var))\n",
    "print(pdf)\n"
   ]
  },
  {
   "cell_type": "code",
   "execution_count": 292,
   "id": "10ea4460",
   "metadata": {},
   "outputs": [
    {
     "name": "stdout",
     "output_type": "stream",
     "text": [
      "4\n",
      "[2, 4, 8, 16]\n"
     ]
    }
   ],
   "source": [
    "a=[1,1,1,1]\n",
    "n=0\n",
    "fish=[]\n",
    "for num in range(0,len(a)):\n",
    "    n=n+1\n",
    "    fish.append(2**n)\n",
    "print(n)\n",
    "print(fish)\n",
    "\n",
    "    \n",
    "    "
   ]
  },
  {
   "cell_type": "code",
   "execution_count": null,
   "id": "45c8c4dd",
   "metadata": {},
   "outputs": [],
   "source": [
    "mle = (1/s)*((1/std*np.sqrt(2*np.pi))**n)*np.exp(-(((np.log(s)-mean)**2)/(2*var)).sum())"
   ]
  },
  {
   "cell_type": "markdown",
   "id": "6f3875fc",
   "metadata": {},
   "source": [
    "Dont really know what I am doing anymore"
   ]
  },
  {
   "cell_type": "code",
   "execution_count": 268,
   "id": "483cd5e6",
   "metadata": {},
   "outputs": [
    {
     "data": {
      "text/plain": [
       "(array([  8.,   4.,  27.,   1.,   3.,  11.,   2.,   2.,   7.,  74.,   2.,\n",
       "         12.,  17.,  35.,  24.,  11., 100.,  14.,   2.,  16.,   6.,  60.,\n",
       "          9.,   6., 143.,   2.,   7.,  30.,  21., 110.]),\n",
       " array([7.55974981e-09, 1.67711917e-03, 3.35423077e-03, 5.03134238e-03,\n",
       "        6.70845399e-03, 8.38556559e-03, 1.00626772e-02, 1.17397888e-02,\n",
       "        1.34169004e-02, 1.50940120e-02, 1.67711236e-02, 1.84482352e-02,\n",
       "        2.01253468e-02, 2.18024585e-02, 2.34795701e-02, 2.51566817e-02,\n",
       "        2.68337933e-02, 2.85109049e-02, 3.01880165e-02, 3.18651281e-02,\n",
       "        3.35422397e-02, 3.52193513e-02, 3.68964629e-02, 3.85735745e-02,\n",
       "        4.02506861e-02, 4.19277977e-02, 4.36049093e-02, 4.52820209e-02,\n",
       "        4.69591326e-02, 4.86362442e-02, 5.03133558e-02]),\n",
       " <BarContainer object of 30 artists>)"
      ]
     },
     "execution_count": 268,
     "metadata": {},
     "output_type": "execute_result"
    },
    {
     "data": {
      "image/png": "[encoded data removed]",
      "text/plain": [
       "<Figure size 432x288 with 1 Axes>"
      ]
     },
     "metadata": {
      "needs_background": "light"
     },
     "output_type": "display_data"
    }
   ],
   "source": [
    "plt.hist(pdf, color = 'blue', edgecolor = 'black',\n",
    "         bins = int(30))"
   ]
  },
  {
   "cell_type": "code",
   "execution_count": 298,
   "id": "e5cccbee",
   "metadata": {},
   "outputs": [],
   "source": [
    "mu, sigma = 2.9193719179548485, 0.4797342203867394 # mean and standard deviation\n",
    "\n",
    "f = np.random.lognormal(mu, sigma, 1000)"
   ]
  },
  {
   "cell_type": "code",
   "execution_count": 304,
   "id": "280ba097",
   "metadata": {},
   "outputs": [
    {
     "data": {
      "image/png": "[encoded data removed]",
      "text/plain": [
       "<Figure size 432x288 with 1 Axes>"
      ]
     },
     "metadata": {
      "needs_background": "light"
     },
     "output_type": "display_data"
    }
   ],
   "source": [
    "import matplotlib.pyplot as plt\n",
    "\n",
    "count, bins, ignored = plt.hist(f, 100, density=True, align='mid')"
   ]
  },
  {
   "cell_type": "code",
   "execution_count": 152,
   "id": "4b562289",
   "metadata": {},
   "outputs": [
    {
     "data": {
      "text/html": [
       "<div>\n",
       "<style scoped>\n",
       "    .dataframe tbody tr th:only-of-type {\n",
       "        vertical-align: middle;\n",
       "    }\n",
       "\n",
       "    .dataframe tbody tr th {\n",
       "        vertical-align: top;\n",
       "    }\n",
       "\n",
       "    .dataframe thead th {\n",
       "        text-align: right;\n",
       "    }\n",
       "</style>\n",
       "<table border=\"1\" class=\"dataframe\">\n",
       "  <thead>\n",
       "    <tr style=\"text-align: right;\">\n",
       "      <th></th>\n",
       "      <th>id</th>\n",
       "      <th>treatment</th>\n",
       "      <th>tofrom</th>\n",
       "      <th>value</th>\n",
       "      <th>role</th>\n",
       "      <th>resp</th>\n",
       "      <th>round</th>\n",
       "      <th>rounds</th>\n",
       "      <th>old</th>\n",
       "    </tr>\n",
       "  </thead>\n",
       "  <tbody>\n",
       "    <tr>\n",
       "      <th>count</th>\n",
       "      <td>766.000000</td>\n",
       "      <td>766.0</td>\n",
       "      <td>766.000000</td>\n",
       "      <td>766.000000</td>\n",
       "      <td>766.0</td>\n",
       "      <td>766.000000</td>\n",
       "      <td>766.000000</td>\n",
       "      <td>766.000000</td>\n",
       "      <td>766.00000</td>\n",
       "    </tr>\n",
       "    <tr>\n",
       "      <th>mean</th>\n",
       "      <td>121.328982</td>\n",
       "      <td>1.0</td>\n",
       "      <td>131.954308</td>\n",
       "      <td>20.326084</td>\n",
       "      <td>0.0</td>\n",
       "      <td>0.778068</td>\n",
       "      <td>1.648825</td>\n",
       "      <td>2.291123</td>\n",
       "      <td>0.85248</td>\n",
       "    </tr>\n",
       "    <tr>\n",
       "      <th>std</th>\n",
       "      <td>84.457106</td>\n",
       "      <td>0.0</td>\n",
       "      <td>88.389892</td>\n",
       "      <td>7.512386</td>\n",
       "      <td>0.0</td>\n",
       "      <td>0.415817</td>\n",
       "      <td>0.651327</td>\n",
       "      <td>0.454577</td>\n",
       "      <td>0.70695</td>\n",
       "    </tr>\n",
       "    <tr>\n",
       "      <th>min</th>\n",
       "      <td>1.000000</td>\n",
       "      <td>1.0</td>\n",
       "      <td>6.000000</td>\n",
       "      <td>1.000000</td>\n",
       "      <td>0.0</td>\n",
       "      <td>0.000000</td>\n",
       "      <td>1.000000</td>\n",
       "      <td>2.000000</td>\n",
       "      <td>0.00000</td>\n",
       "    </tr>\n",
       "    <tr>\n",
       "      <th>25%</th>\n",
       "      <td>22.500000</td>\n",
       "      <td>1.0</td>\n",
       "      <td>26.250000</td>\n",
       "      <td>15.000000</td>\n",
       "      <td>0.0</td>\n",
       "      <td>1.000000</td>\n",
       "      <td>1.000000</td>\n",
       "      <td>2.000000</td>\n",
       "      <td>0.00000</td>\n",
       "    </tr>\n",
       "    <tr>\n",
       "      <th>50%</th>\n",
       "      <td>137.000000</td>\n",
       "      <td>1.0</td>\n",
       "      <td>149.000000</td>\n",
       "      <td>20.000000</td>\n",
       "      <td>0.0</td>\n",
       "      <td>1.000000</td>\n",
       "      <td>2.000000</td>\n",
       "      <td>2.000000</td>\n",
       "      <td>1.00000</td>\n",
       "    </tr>\n",
       "    <tr>\n",
       "      <th>75%</th>\n",
       "      <td>162.000000</td>\n",
       "      <td>1.0</td>\n",
       "      <td>177.000000</td>\n",
       "      <td>25.000000</td>\n",
       "      <td>0.0</td>\n",
       "      <td>1.000000</td>\n",
       "      <td>2.000000</td>\n",
       "      <td>3.000000</td>\n",
       "      <td>1.00000</td>\n",
       "    </tr>\n",
       "    <tr>\n",
       "      <th>max</th>\n",
       "      <td>250.000000</td>\n",
       "      <td>1.0</td>\n",
       "      <td>274.000000</td>\n",
       "      <td>49.000000</td>\n",
       "      <td>0.0</td>\n",
       "      <td>1.000000</td>\n",
       "      <td>3.000000</td>\n",
       "      <td>3.000000</td>\n",
       "      <td>2.00000</td>\n",
       "    </tr>\n",
       "  </tbody>\n",
       "</table>\n",
       "</div>"
      ],
      "text/plain": [
       "               id  treatment      tofrom       value   role        resp  \\\n",
       "count  766.000000      766.0  766.000000  766.000000  766.0  766.000000   \n",
       "mean   121.328982        1.0  131.954308   20.326084    0.0    0.778068   \n",
       "std     84.457106        0.0   88.389892    7.512386    0.0    0.415817   \n",
       "min      1.000000        1.0    6.000000    1.000000    0.0    0.000000   \n",
       "25%     22.500000        1.0   26.250000   15.000000    0.0    1.000000   \n",
       "50%    137.000000        1.0  149.000000   20.000000    0.0    1.000000   \n",
       "75%    162.000000        1.0  177.000000   25.000000    0.0    1.000000   \n",
       "max    250.000000        1.0  274.000000   49.000000    0.0    1.000000   \n",
       "\n",
       "            round      rounds        old  \n",
       "count  766.000000  766.000000  766.00000  \n",
       "mean     1.648825    2.291123    0.85248  \n",
       "std      0.651327    0.454577    0.70695  \n",
       "min      1.000000    2.000000    0.00000  \n",
       "25%      1.000000    2.000000    0.00000  \n",
       "50%      2.000000    2.000000    1.00000  \n",
       "75%      2.000000    3.000000    1.00000  \n",
       "max      3.000000    3.000000    2.00000  "
      ]
     },
     "execution_count": 152,
     "metadata": {},
     "output_type": "execute_result"
    }
   ],
   "source": [
    "no_zero.describe()"
   ]
  },
  {
   "cell_type": "code",
   "execution_count": 153,
   "id": "1b3a9a1a",
   "metadata": {},
   "outputs": [
    {
     "data": {
      "text/plain": [
       "<AxesSubplot:>"
      ]
     },
     "execution_count": 153,
     "metadata": {},
     "output_type": "execute_result"
    },
    {
     "data": {
      "image/png": "[encoded data removed]",
      "text/plain": [
       "<Figure size 432x288 with 1 Axes>"
      ]
     },
     "metadata": {
      "needs_background": "light"
     },
     "output_type": "display_data"
    }
   ],
   "source": [
    "no_zero.value.value_counts(sort=False,bins=10).plot(kind='barh')"
   ]
  },
  {
   "cell_type": "code",
   "execution_count": 55,
   "id": "0f6a8f37",
   "metadata": {},
   "outputs": [
    {
     "data": {
      "text/plain": [
       "count    422.000000\n",
       "mean      20.284550\n",
       "std        6.608621\n",
       "min        4.200000\n",
       "25%       15.000000\n",
       "50%       20.000000\n",
       "75%       25.000000\n",
       "max       45.000000\n",
       "Name: value, dtype: float64"
      ]
     },
     "execution_count": 55,
     "metadata": {},
     "output_type": "execute_result"
    }
   ],
   "source": [
    "subset1.value.describe()"
   ]
  },
  {
   "cell_type": "code",
   "execution_count": 114,
   "id": "d07a0c5a",
   "metadata": {},
   "outputs": [
    {
     "data": {
      "text/plain": [
       "<AxesSubplot:>"
      ]
     },
     "execution_count": 114,
     "metadata": {},
     "output_type": "execute_result"
    },
    {
     "data": {
      "image/png": "[encoded data removed]",
      "text/plain": [
       "<Figure size 432x288 with 1 Axes>"
      ]
     },
     "metadata": {
      "needs_background": "light"
     },
     "output_type": "display_data"
    }
   ],
   "source": [
    "subset1.value.value_counts(sort=False,bins=10).plot(kind='barh')"
   ]
  },
  {
   "cell_type": "markdown",
   "id": "251cede3",
   "metadata": {},
   "source": [
    "## Treatment 2"
   ]
  },
  {
   "cell_type": "code",
   "execution_count": 34,
   "id": "865c6768",
   "metadata": {},
   "outputs": [
    {
     "data": {
      "text/plain": [
       "<AxesSubplot:>"
      ]
     },
     "execution_count": 34,
     "metadata": {},
     "output_type": "execute_result"
    },
    {
     "data": {
      "image/png": "[encoded data removed]",
      "text/plain": [
       "<Figure size 432x288 with 1 Axes>"
      ]
     },
     "metadata": {
      "needs_background": "light"
     },
     "output_type": "display_data"
    }
   ],
   "source": [
    "treatment2.value.value_counts(sort=False,bins=10).plot(kind='barh')"
   ]
  },
  {
   "cell_type": "code",
   "execution_count": 51,
   "id": "2b5ed357",
   "metadata": {},
   "outputs": [
    {
     "data": {
      "text/plain": [
       "<AxesSubplot:>"
      ]
     },
     "execution_count": 51,
     "metadata": {},
     "output_type": "execute_result"
    },
    {
     "data": {
      "image/png": "[encoded data removed]",
      "text/plain": [
       "<Figure size 432x288 with 1 Axes>"
      ]
     },
     "metadata": {
      "needs_background": "light"
     },
     "output_type": "display_data"
    }
   ],
   "source": [
    "subset2.value.value_counts(sort=False,bins=10).plot(kind='barh')"
   ]
  },
  {
   "cell_type": "markdown",
   "id": "74e5fd82",
   "metadata": {},
   "source": [
    "## Treatment 3"
   ]
  },
  {
   "cell_type": "code",
   "execution_count": 35,
   "id": "df2dbd20",
   "metadata": {},
   "outputs": [
    {
     "data": {
      "text/plain": [
       "<AxesSubplot:>"
      ]
     },
     "execution_count": 35,
     "metadata": {},
     "output_type": "execute_result"
    },
    {
     "data": {
      "image/png": "[encoded data removed]",
      "text/plain": [
       "<Figure size 432x288 with 1 Axes>"
      ]
     },
     "metadata": {
      "needs_background": "light"
     },
     "output_type": "display_data"
    }
   ],
   "source": [
    "treatment3.value.value_counts(sort=False,bins=10).plot(kind='barh')"
   ]
  },
  {
   "cell_type": "code",
   "execution_count": 52,
   "id": "06202be5",
   "metadata": {},
   "outputs": [
    {
     "data": {
      "text/plain": [
       "<AxesSubplot:>"
      ]
     },
     "execution_count": 52,
     "metadata": {},
     "output_type": "execute_result"
    },
    {
     "data": {
      "image/png": "[encoded data removed]",
      "text/plain": [
       "<Figure size 432x288 with 1 Axes>"
      ]
     },
     "metadata": {
      "needs_background": "light"
     },
     "output_type": "display_data"
    }
   ],
   "source": [
    "subset3.value.value_counts(sort=False,bins=10).plot(kind='barh')"
   ]
  },
  {
   "cell_type": "markdown",
   "id": "1fc3be7e",
   "metadata": {},
   "source": [
    "## Treatment 4"
   ]
  },
  {
   "cell_type": "code",
   "execution_count": 36,
   "id": "9be49f2b",
   "metadata": {},
   "outputs": [
    {
     "data": {
      "text/plain": [
       "<AxesSubplot:>"
      ]
     },
     "execution_count": 36,
     "metadata": {},
     "output_type": "execute_result"
    },
    {
     "data": {
      "image/png": "[encoded data removed]",
      "text/plain": [
       "<Figure size 432x288 with 1 Axes>"
      ]
     },
     "metadata": {
      "needs_background": "light"
     },
     "output_type": "display_data"
    }
   ],
   "source": [
    "treatment4.value.value_counts(sort=False,bins=10).plot(kind='barh')"
   ]
  },
  {
   "cell_type": "code",
   "execution_count": 53,
   "id": "497e6ceb",
   "metadata": {},
   "outputs": [
    {
     "data": {
      "text/plain": [
       "<AxesSubplot:>"
      ]
     },
     "execution_count": 53,
     "metadata": {},
     "output_type": "execute_result"
    },
    {
     "data": {
      "image/png": "[encoded data removed]",
      "text/plain": [
       "<Figure size 432x288 with 1 Axes>"
      ]
     },
     "metadata": {
      "needs_background": "light"
     },
     "output_type": "display_data"
    }
   ],
   "source": [
    "subset4.value.value_counts(sort=False,bins=10).plot(kind='barh')"
   ]
  },
  {
   "cell_type": "code",
   "execution_count": 57,
   "id": "2ff1be5a",
   "metadata": {},
   "outputs": [],
   "source": [
    "import sympy"
   ]
  },
  {
   "cell_type": "markdown",
   "id": "86897637",
   "metadata": {},
   "source": [
    "The last few counts and the bar chart indicate how widespread the offers are.  We want some kind of model that explains this dispersion.  There are many ways to do it.  The approach here uses loss aversion as the primary determinate.   We could have used a kind of variable altruism and spite.  So most of the experiments involved imposing lower limits on acceptable offers to induce a shift in the offers and acceptance probabilities in our model that wouldn't happen if altruisim and its counterpart, spite, were the only factors at play. \n",
    "\n",
    "A proposer and responder share a monetary payoff of size 1. The proposer offers some \n",
    "share of the payoff to the responder.  If the responder accepts, the responder gets\n",
    "her share, the proposer gets the rest.  If the responder rejects, neither of them\n",
    "get anything.\n"
   ]
  },
  {
   "cell_type": "markdown",
   "id": "46e3b27b",
   "metadata": {},
   "source": [
    "The model uses loss aversion  with an endogenous reference point as well as\n",
    "other regarding preferences.\n",
    "In the simplest version of loss aversion, the payoff is piecwise linear in money, and depends on a reference offer $r$. This is called constant loss aversion and comes from (Tversky and Kahnman 1991). \n",
    "\n",
    "Thinking of $x$ as the share of the payoff a player receives, this payoff would look like:\n",
    "$$\n",
    "U(x,\\lambda,r)=\\begin{cases}\n",
    "x-r & if\\;x\\geq r\\\\\n",
    "\\lambda(x-r) & if\\;x<r\n",
    "\\end{cases}\n",
    "$$\n",
    "Notice when the share is 0, the formula says the payoff to the responder is $-\\lambda r$.\n",
    "\n",
    "The term $\\lambda\\ge1$ is the degree of loss\n",
    "aversion. The variable $\\lambda$ which measures loss aversion is assumed privately known. It is common belief that it is independently drawn for each proposer and responder from distribution\n",
    "$G$ which is assumed to have a compact support bounded below by $1$.  \n"
   ]
  },
  {
   "cell_type": "markdown",
   "id": "a2cefbcd",
   "metadata": {},
   "source": [
    "This won't be quite enough to fit the data, so we'll add other regarding preferences. This consists of a spitefulness term when the other player gets a larger share, and a competitiveness term when the other other player gets a smaller share. To keep things simple, we'll assume the spitefulness term comes as a fixed cost. Alternatively the competitiveness term is a linear function as follows:\n",
    "$$\n",
    "V\\left(x,y,\\lambda,r\\right)=\\begin{cases}\n",
    "x-r-\\frac{1}{2} & 0\\le x<y;x\\ge r\\\\\n",
    "\\lambda\\left(x-r\\right)-\\frac{1}{2} & 0<x<y;x<r\\\\\n",
    "x-r+\\alpha\\left(x-y\\right) & x\\ge y;x\\ge r\\\\\n",
    "-\\lambda r & x=y=0.\n",
    "\\end{cases}\n",
    "$$\n",
    "\n",
    "In this formula, $r$ is the reference offer and $\\alpha$ is a positive constant. The reference offer\n",
    "is the highest share a proposer believes he or she can get for sure.\n",
    "For the responder, this will be the lowest offer she expects to receive\n",
    "with positive probability. \n",
    "\n",
    "Ideally, we would like to recover the distribution $G$, the reference offer for proposers and responders, along with the constant $\\alpha$ measuring the competitiveness term from the data on offers and responses.\n"
   ]
  },
  {
   "cell_type": "markdown",
   "id": "aef93431",
   "metadata": {},
   "source": [
    "Let $Q\\left(s\\right)$ be the probability with which a proposer expects\n",
    "an offer of $s$ to a responder to be accepted.  The proposer is intent on maximizing\n",
    "$$\n",
    "Q\\left(s\\right)\\left(\\left(1-s\\right)+\\alpha\\left(1-2s\\right)\\right)-\\left(1-Q\\left(s\\right)\\right)\\left(\\lambda r\\right).\\label{proposer-payoff-1}\n",
    "$$\n",
    "\n",
    "Now each player must make a decision, for the proposer the offer, which will depend on his or her loss aversion $\\lambda$.  For the responder\n",
    "the decision is about what offers to accept and which to reject.  Again, this depends on her loss aversion parameter $\\lambda$.\n",
    "\n"
   ]
  },
  {
   "cell_type": "markdown",
   "id": "aaadfc23",
   "metadata": {},
   "source": [
    "An equilibrium consists of a pair of functions $o(\\lambda)$ which gives an offer to be made by a seller that depends on his type $\\lambda$ and $a(\\lambda)$ which denotes the lowest offer that is acceptable to a responser of type $\\lambda$. \n",
    "First notice that whatever the responder's reference offer happens\n",
    "to be, she will accept an offer $s<\\frac{1}{2}$ as long as\n",
    "$$\n",
    "s-r-\\frac{1}{2}\\ge-\\lambda r.\n",
    "$$\n",
    "which is the same as the condition \n",
    "$$\n",
    "\\lambda \\ge \\frac{r-s+\\frac{1}{2}}{r}\n",
    "$$"
   ]
  },
  {
   "cell_type": "markdown",
   "id": "ccebe724",
   "metadata": {},
   "source": [
    "From the proposer's prespective, the probability that an offer $s\\ge r$ will the accepted is equal to \n",
    "$$\n",
    "\\mathbb{Pr}  \\left\\{ \\lambda \\ge \\frac{r-s+\\frac{1}{2}}{r} \\right\\} = \n",
    "$$\n",
    "\n",
    "$$\n",
    "\\int_{\\frac{r-s+\\frac{1}{2}}{r}}^{\\overline{\\lambda}}dG(\\tilde{s})=\n",
    "$$\n",
    "\n",
    "$$\n",
    "1-G(\\frac{r-s+\\frac{1}{2}}{r}) = Q(s)\n",
    "$$\n",
    "A similar calculation for $s<r$ gives the acceptance probability \n",
    "$$\n",
    "Q(s) = 1-G(\\frac{1}{2s}).\n",
    "$$"
   ]
  },
  {
   "cell_type": "markdown",
   "id": "91413b7b",
   "metadata": {},
   "source": [
    "As the acceptance probability already builds in the fact that a responder uses a best reply, an equilibrium is now described by an offer function $o(\\lambda)$\n",
    " which satisfies\n",
    " $$\n",
    " Q\\left(o(\\lambda)\\right)\\left(\\left(1-o(\\lambda)\\right)-r+\\alpha\\left(1-2o(\\lambda)\\right)\\right)-\\left(1-Q\\left(o(\\lambda)\\right)\\right)\\left(\\lambda r\\right)\n",
    " \\\\\n",
    " \\ge Q\\left(s\\right)\\left(\\left(1-s\\right)-r+\\alpha\\left(1-2s\\right)\\right)-\\left(1-Q\\left(s\\right)\\right)\\left(\\lambda r\\right)\n",
    " $$\n",
    " for all $\\lambda\\ge 1$. "
   ]
  },
  {
   "cell_type": "markdown",
   "id": "69f6ff1a",
   "metadata": {},
   "source": [
    "There is no interaction between proposer types, each type solves what appears to be a completely separate maximization problem.  This leads to the following somewhat intutive approach to the equilibrium.\n",
    "\n",
    "For the most part, the equilibrium is straightforward. The function\n",
    "$Q\\left(s,r\\right)$ defines a kind of budget set that determines\n",
    "what $\\left(\\tilde{Q},\\tilde{s}\\right)$ pairs are attainable for\n",
    "the proposer. \n",
    "\n",
    "We can add the assumption that the proposer's reference point is the lowest offer that is accepted for sure, $\\frac{1}{2}$. The proposer then chooses a $\\left(\\tilde{Q},\\tilde{s}\\right)$\n",
    "pair that maximizes \n",
    "\\begin{equation}\n",
    "\\tilde{Q}\\left(1-\\tilde{s}\\left(1+2\\alpha\\right)+\\alpha-\\frac{1}{2}\\right)+\\left(1-\\tilde{Q}\\right)\\left(-\\lambda\\frac{1}{2}\\right)\\label{surplus}\n",
    "\\end{equation}\n",
    " subject to $Q\\left(\\tilde{s},r\\right)=\\tilde{Q}$.\n"
   ]
  },
  {
   "cell_type": "markdown",
   "id": "34f805ef",
   "metadata": {},
   "source": [
    "If we can find the function $o(s)$  that maximizes the proposer's expected payoff for each $s$, then we need to check whether the minimum point of this function, which occurs where $\\lambda = 1$ coincides with the reference point $r$  we used to construct the $Q$ function which is a fixed point problem.\n",
    "\n",
    "One approach to 'solving' this problem is to take the derivative of the payoff function given above for the proposer with respect to $\\lambda$, then solving the corresponding differential equation.  We'll leave that approach for a different problem, because there is a simpler way here."
   ]
  },
  {
   "cell_type": "markdown",
   "id": "e01e0d80",
   "metadata": {},
   "source": [
    "To understand the equilibrium just note the solution to each proposer's problem occurs where the level sets of the function above are tangent to the 'budget line' defined by the probabilitiy of acceptance function as in the following figure.\n",
    "\n",
    "\n",
    "![equilibrium](mike_fig7.jpg)"
   ]
  },
  {
   "cell_type": "markdown",
   "id": "34388836",
   "metadata": {},
   "source": [
    "The slope of an iso-surplus curve can be found by totally differentiating\n",
    "the proposer's payoff with respect to $\\tilde{s}$ and $\\tilde{Q}$, then\n",
    "setting the result to $0$ and solving for $\\frac{d\\tilde{Q}}{d\\tilde{s}^{\\prime}}$.\n",
    "The result is\n",
    "$$\n",
    "I^{\\prime}\\left(\\tilde{s},\\tilde{Q},\\lambda\\right)=\\frac{\\tilde{Q}\\left(1+2\\alpha\\right)}{\\left\\{ \\left(1-\\tilde{s}\\left(1+2\\alpha\\right)+\\alpha\\right)+\\frac{1}{2}\\left(\\lambda-1\\right)\\right\\} }\n",
    "$$\n",
    "which is increasing in $\\tilde{s}$ and $\\tilde{Q}$ but falling in\n",
    "$\\lambda$. In this formula\n",
    "$$\n",
    "I\\left(\\tilde{s},\\tilde{Q},\\lambda:K\\right)\\equiv\n",
    "\\left\\{ \\tilde{Q}:\\tilde{Q}\\cdot\\left(1-\\tilde{s}\\left(1+2\\alpha\\right)+\\alpha-\\frac{1}{2}\\right)+\\left(1-Q^{\\prime}\\right)\\left(-\\lambda\\frac{1}{2}\\right)=K\\right\\} .\n",
    "$$\n"
   ]
  },
  {
   "cell_type": "markdown",
   "id": "b24092a3",
   "metadata": {},
   "source": [
    "Now we write the first order condition by setting the slope of this iso-surplus line equal to the slope of the function that defines the probability of acceptance\n",
    "\n",
    "$$\n",
    "\\frac{Q(s)\\left(1+2\\alpha\\right)} { \\left( 1-s\\left(1+2\\alpha\\right)+\\alpha\\right) + \\frac{1}{2} \\left(\\lambda-1\\right) }\n",
    "= Q^\\prime(s)\n",
    "$$\n"
   ]
  },
  {
   "cell_type": "markdown",
   "id": "d26b2b83",
   "metadata": {},
   "source": [
    "Now we can just solve this for $\\lambda$ to get\n",
    "\n",
    "$$\n",
    "\\lambda = \\frac{2Q(s)(1+2\\alpha)}{Q^\\prime(s)} - 2(1-s(1+2\\alpha)) + 1 \n",
    "$$\n",
    "\n",
    "The function above, call it $\\lambda(s)$, gives the type of a proposer who makes an offer $s$. Let $\\psi(s)$ be the empirical distribution of offers made by the proposers - i.e,\n",
    "the proportion of all offers that are less than or equal to $s$. Whatever the unknown distribution of loss aversion parameters is, it should have the property that the proportion of proposers who make offers less than $s$ is equal to the proportion of proposers who have loss aversion parameters less than $\\lambda(s)$, or\n",
    "\n",
    "$$\n",
    "\\psi(s) = \\hat{G}\\left(\\frac{2Q(s)(1+2\\alpha)}{Q^\\prime(s)} - 2(1-s(1+2\\alpha)) + 1\\right)\n",
    "$$\n",
    "where $\\hat{G}(\\lambda)$ is the unknown distribution of loss parameters.\n",
    "\n",
    "Observe that in this expression, the function $Q(s)$ depends on $\\hat{G}$.  So in a theoretical sense we have to solve a functional equation.  Also note, that this functional equation depends on $\\alpha$, which is the competitiveness term in the payoff function.  So at this point, we can't tell what $\\hat{G}$ is without knowing $\\alpha$."
   ]
  },
  {
   "cell_type": "markdown",
   "id": "151e913d",
   "metadata": {},
   "source": [
    "However, we have another bit of information. The probability that an offer $s$ is accepted is given by the probability with which a responder has a loss aversion parameter larger than \n",
    "$$\n",
    "\\frac{r-s+\\frac{1}{2}}{r}.\n",
    "$$\n",
    "From the data from the experiment, we can estimate the probability $\\hat{Q}(s)$  with which each offer is accepted.  So for each $s$,\n",
    "$$\n",
    "\\hat{Q}(s) = 1-\\hat{G}\\left(\\frac{r-s+\\frac{1}{2}}{r}\\right)\n",
    "$$\n",
    "\n",
    "Then since the function $\\hat{G}$  is completely determined by this last operation, the solution to our original problem reduced from finding the solution to a functional equation, to finding the right parameter $\\alpha$."
   ]
  }
 ],
 "metadata": {
  "kernelspec": {
   "display_name": "Python 3 (ipykernel)",
   "language": "python",
   "name": "python3"
  },
  "language_info": {
   "codemirror_mode": {
    "name": "ipython",
    "version": 3
   },
   "file_extension": ".py",
   "mimetype": "text/x-python",
   "name": "python",
   "nbconvert_exporter": "python",
   "pygments_lexer": "ipython3",
   "version": "3.9.7"
  }
 },
 "nbformat": 4,
 "nbformat_minor": 5
}
